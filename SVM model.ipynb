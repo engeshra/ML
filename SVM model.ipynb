{
 "cells": [
  {
   "cell_type": "code",
   "execution_count": 11,
   "id": "85448528",
   "metadata": {},
   "outputs": [
    {
     "name": "stdout",
     "output_type": "stream",
     "text": [
      "duplicate exit\n",
      "SVM accuracy  0.8854961832061069\n"
     ]
    }
   ],
   "source": [
    "import pandas as pd\n",
    "import json    \n",
    "from sklearn.feature_extraction.text import TfidfVectorizer\n",
    "from sklearn.feature_selection import chi2\n",
    "import matplotlib.pyplot as plt\n",
    "import seaborn as sns\n",
    "from io import StringIO\n",
    "from IPython.display import display\n",
    "from sklearn.model_selection import train_test_split\n",
    "from sklearn.feature_extraction.text import TfidfTransformer\n",
    "from sklearn.naive_bayes import MultinomialNB\n",
    "from sklearn.linear_model import LogisticRegression\n",
    "from sklearn.ensemble import RandomForestClassifier\n",
    "from sklearn.svm import LinearSVC\n",
    "from sklearn.model_selection import cross_val_score\n",
    "from sklearn.metrics import confusion_matrix\n",
    "from sklearn import metrics\n",
    "from sklearn.feature_extraction.text import CountVectorizer\n",
    "from sklearn.feature_extraction.text import TfidfTransformer\n",
    "\n",
    "\n",
    "\n",
    "train_data = []\n",
    "#read json file into datframe\n",
    "with open ('articles.json') as f_train : train_data = json.load(f_train)\n",
    "df = pd.DataFrame (train_data, columns = ['body','title','category'])  \n",
    "\n",
    "#clean data \n",
    "\n",
    "\n",
    "# check if there is a duplicate body \n",
    "\n",
    "from collections import Counter\n",
    "# Eshra Comment: If I don't know what Counter does, I can't image what you meain with c. If I were you, I will name it count_similar_bodies as it gives me an insight what you are going to do. ",
    "c = Counter(df['body'])\n",
    "c.most_common(1)\n",
    "#print (\"\",c.most_common(1))\n",
    "#rint (\"length =\" ,len(c))\n",
    "# Eshra Comment: unify the convension snake case (underscore) is python naming convension as you did in the rest of the code",
    "orginalLength = (len(df['body']))\n",
    "commLength = len(c)\n",
    "if (commLength<orginalLength): print ('duplicate exit')\n",
    "#remove duplicate row that contains duplicate body \n",
    "#keep first \n",
    "df.drop_duplicates(subset =\"body\",keep = 'first', inplace = True)\n",
    "#print(df.count()) # Size after remove duplicates \n",
    "#CHECK ALL CATEGORY \n",
    "#print(pd.unique(df['category']))#3 CLASS  ['Engineering', 'Startups & Business', 'Product & Design']\n",
    "\n",
    "df['cat_id']=df['category'].factorize()[0]; #map category to id from 0 to 2 \n",
    "\n",
    "category_id_df = df[['category', 'cat_id']].drop_duplicates().sort_values('cat_id')\n",
    "\n",
    "id_to_category = (category_id_df[['cat_id', 'category']].values)\n",
    "\n",
    "category_to_id = dict(category_id_df.values)\n",
    "\n",
    "\n",
    "category_to_id = dict(category_id_df.values)\n",
    "\n",
    "#df.head()\n",
    "#plot data \n",
    "#plot data to check if it is imbalanced or not \n",
    "\n",
    "\n",
    "\n",
    "from sklearn.feature_extraction.text import TfidfVectorizer\n",
    "tfidf = TfidfVectorizer(analyzer='word' ,sublinear_tf=True, min_df=5, norm='l2', encoding='latin-1', ngram_range=(1, 2), stop_words='english')\n",
    "features = tfidf.fit_transform(df.body).toarray()\n",
    "labels = df.cat_id\n",
    "#print(features.shape)\n",
    "\n",
    "\n",
    "\n",
    "from sklearn.metrics import accuracy_score\n",
    "\n",
    "\n",
    "model = LinearSVC()\n",
    "# Eshra Comment: Also here X_train & y_train, I think it will be easier for the reviewer to understand if we rename them training_documents, training_target as having character like x,y,z is not good to use in code specially when you share with a first time reviewer who don't have any idea about your coding style.",
    "X_train, X_test, y_train, y_test, indices_train, indices_test = train_test_split(features, labels, df.index, test_size=0.33, random_state=0)\n",
    "model.fit(X_train, y_train)\n",
    "y_pred = model.predict(X_test)\n",
    "df_res = pd.DataFrame({'Actual': y_test, 'Predicted': y_pred})\n",
    "\n",
    "print(\"SVM accuracy \",accuracy_score(y_test,y_pred))\n"
   ]
  },
  {
   "cell_type": "code",
   "execution_count": 12,
   "id": "2ff5f120",
   "metadata": {},
   "outputs": [
    {
     "data": {
      "image/png": "[encoded data removed]",
      "text/plain": [
       "<Figure size 720x720 with 2 Axes>"
      ]
     },
     "metadata": {
      "needs_background": "light"
     },
     "output_type": "display_data"
    }
   ],
   "source": [
    "from sklearn.metrics import confusion_matrix\n",
    "conf_mat = confusion_matrix(y_test, y_pred)\n",
    "fig, ax = plt.subplots(figsize=(10,10))\n",
    "sns.heatmap(conf_mat, annot=True, fmt='d',\n",
    "            xticklabels=category_id_df.category.values, yticklabels=category_id_df.category.values)\n",
    "plt.ylabel('Actual')\n",
    "plt.xlabel('Predicted')\n",
    "plt.show()"
   ]
  },
  {
   "cell_type": "code",
   "execution_count": null,
   "id": "a9a0b997",
   "metadata": {},
   "outputs": [],
   "source": []
  }
 ],
 "metadata": {
  "kernelspec": {
   "display_name": "Python 3 (ipykernel)",
   "language": "python",
   "name": "python3"
  },
  "language_info": {
   "codemirror_mode": {
    "name": "ipython",
    "version": 3
   },
   "file_extension": ".py",
   "mimetype": "text/x-python",
   "name": "python",
   "nbconvert_exporter": "python",
   "pygments_lexer": "ipython3",
   "version": "3.9.7"
  }
 },
 "nbformat": 4,
 "nbformat_minor": 5
}
